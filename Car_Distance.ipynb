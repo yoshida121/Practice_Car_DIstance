{
 "cells": [
  {
   "cell_type": "markdown",
   "metadata": {},
   "source": [
    "# Public Score : 2.65071"
   ]
  },
  {
   "cell_type": "markdown",
   "metadata": {},
   "source": [
    "# 環境\n",
    "- Windows Server 2016 Standaard\n",
    "- Python 3.6.7 (anaconda custom)\n",
    "- Pandas 0.23.4\n",
    "- joblib 0.13.2\n",
    "- NumPy 1.15.4\n",
    "- Scikit-Learn 0.20.2\n",
    "- LightGBM 2.2.1\n",
    "- XGBoost 0.80"
   ]
  },
  {
   "cell_type": "code",
   "execution_count": 1,
   "metadata": {},
   "outputs": [],
   "source": [
    "import pandas as pd\n",
    "import os\n",
    "import numpy as np\n",
    "import joblib\n",
    "import matplotlib.pyplot as plt\n",
    "import seaborn as sns\n",
    "%matplotlib inline\n",
    "\n",
    "from sklearn.model_selection import KFold\n",
    "from sklearn.impute import SimpleImputer\n",
    "from sklearn.metrics import mean_squared_error, make_scorer\n",
    "from sklearn.model_selection import train_test_split, cross_validate, GridSearchCV\n",
    "from sklearn.pipeline import Pipeline\n",
    "from lightgbm import LGBMRegressor\n",
    "from xgboost import XGBRegressor"
   ]
  },
  {
   "cell_type": "markdown",
   "metadata": {},
   "source": [
    "# データの読み込み\n",
    "csvのときは、**read_csv**だったが、tsvなので**read_table**を使用"
   ]
  },
  {
   "cell_type": "code",
   "execution_count": 2,
   "metadata": {},
   "outputs": [],
   "source": [
    "df_train = pd.read_table(\"train.tsv\").set_index(\"id\")\n",
    "df_test = pd.read_table(\"test.tsv\").set_index(\"id\")\n",
    "target_col = \"mpg\""
   ]
  },
  {
   "cell_type": "markdown",
   "metadata": {},
   "source": [
    "## 欠損値の置き換え\n",
    "\"?\"だと型変換が上手くできない。一般的な欠損値を表す値である、NaNへと置き換え"
   ]
  },
  {
   "cell_type": "code",
   "execution_count": 3,
   "metadata": {},
   "outputs": [],
   "source": [
    "df_train.replace({\"?\": np.nan}, inplace=True)\n",
    "df_test.replace({\"?\": np.nan}, inplace=True)"
   ]
  },
  {
   "cell_type": "code",
   "execution_count": 4,
   "metadata": {},
   "outputs": [],
   "source": [
    "df_train[\"horsepower\"] = df_train[\"horsepower\"].astype(np.float32)\n",
    "df_test[\"horsepower\"] = df_test[\"horsepower\"].astype(np.float32)"
   ]
  },
  {
   "cell_type": "markdown",
   "metadata": {},
   "source": [
    "# 評価関数の作成\n",
    "Scikit-LearnではRMSEはない為、MSEからルートを取り作成する"
   ]
  },
  {
   "cell_type": "code",
   "execution_count": 5,
   "metadata": {},
   "outputs": [],
   "source": [
    "def rmse(y_true, predict):\n",
    "    return np.sqrt(mean_squared_error(y_true, predict))\n",
    "rmse_scorer = make_scorer(rmse)"
   ]
  },
  {
   "cell_type": "markdown",
   "metadata": {},
   "source": [
    "# 車種の分類\n",
    "車種に関する知識がない為、メーカー名でまとめる"
   ]
  },
  {
   "cell_type": "code",
   "execution_count": 6,
   "metadata": {},
   "outputs": [],
   "source": [
    "makers = set([i[0] for i in df_train[\"car name\"].str.split(\" \")])"
   ]
  },
  {
   "cell_type": "code",
   "execution_count": 7,
   "metadata": {},
   "outputs": [],
   "source": [
    "for maker in makers:\n",
    "    df_train[maker] = df_train[\"car name\"].str.contains(maker)\n",
    "    df_test[maker] = df_test[\"car name\"].str.contains(maker)"
   ]
  },
  {
   "cell_type": "code",
   "execution_count": 8,
   "metadata": {},
   "outputs": [
    {
     "data": {
      "text/plain": [
       "True"
      ]
     },
     "execution_count": 8,
     "metadata": {},
     "output_type": "execute_result"
    }
   ],
   "source": [
    "(df_train.drop([target_col], axis=1).columns == df_test.columns).any()"
   ]
  },
  {
   "cell_type": "markdown",
   "metadata": {},
   "source": [
    "**True**なので、学習用データと評価用データの片方のみに含まれるメーカー名はない"
   ]
  },
  {
   "cell_type": "code",
   "execution_count": 9,
   "metadata": {},
   "outputs": [],
   "source": [
    "df_train.drop([\"car name\"], axis=1, inplace=True)\n",
    "df_test.drop([\"car name\"], axis=1, inplace=True)"
   ]
  },
  {
   "cell_type": "markdown",
   "metadata": {},
   "source": [
    "# 前処理用のパイプラインを作成\n",
    "欠損値をNaNへと置き換えたので、欠損値の補完をしなければならない<br>\n",
    "とりあえず各列の中央値とした<br>\n",
    "他の処理(スケーリングなど)を行う場合は、2行目のような形式で追加すれば、パイプラインを呼び出すことで自動で処理を施すことが出来る"
   ]
  },
  {
   "cell_type": "code",
   "execution_count": 10,
   "metadata": {},
   "outputs": [],
   "source": [
    "preprocess = Pipeline([\n",
    "    (\"impute\", SimpleImputer(strategy=\"median\")),\n",
    "])"
   ]
  },
  {
   "cell_type": "code",
   "execution_count": 11,
   "metadata": {},
   "outputs": [],
   "source": [
    "X = df_train.drop([target_col], axis=1).values\n",
    "y = df_train[target_col].values\n",
    "X_test = df_test.values\n",
    "\n",
    "X = preprocess.fit_transform(X)\n",
    "X_test = preprocess.transform(X_test)"
   ]
  },
  {
   "cell_type": "code",
   "execution_count": 12,
   "metadata": {},
   "outputs": [],
   "source": [
    "kf = KFold(n_splits=5, shuffle=True, random_state=42)"
   ]
  },
  {
   "cell_type": "code",
   "execution_count": 13,
   "metadata": {},
   "outputs": [
    {
     "name": "stdout",
     "output_type": "stream",
     "text": [
      "XGBoost GridSearching...\n",
      "LightGBM GridSearching...\n"
     ]
    },
    {
     "data": {
      "text/plain": [
       "['.\\\\models\\\\gs_lgb.model']"
      ]
     },
     "execution_count": 13,
     "metadata": {},
     "output_type": "execute_result"
    }
   ],
   "source": [
    "params = {\n",
    "    \"learning_rate\": [0.1, 0.3, 0.5],\n",
    "    \"max_depth\": [2,3,5,10],\n",
    "#     \"max_child_weight\": np.arange(0.5, 1.5, 0.1),\n",
    "#     \"reg_lambda\": np.arange(1, 5)\n",
    "    \"subsample\": [0.5,0.8,0.9,1],\n",
    "    \"colsample_bytree\": [0.5,1.0],\n",
    "}\n",
    "\n",
    "os.makedirs(\".\\\\models\\\\\", exist_ok=True)\n",
    "\n",
    "print(\"XGBoost GridSearching...\")\n",
    "xgb_gs = GridSearchCV(XGBRegressor(), params, cv=5, scoring=rmse_scorer, iid=False).fit(X, y)\n",
    "xgb_base = xgb_gs.best_estimator_\n",
    "joblib.dump(xgb_gs, \".\\\\models\\\\gs_xgb.model\")\n",
    "\n",
    "print(\"LightGBM GridSearching...\")\n",
    "lgb_gs = GridSearchCV(LGBMRegressor(), params, cv=5, scoring=rmse_scorer, iid=False).fit(X, y)\n",
    "lgb_base = lgb_gs.best_estimator_\n",
    "joblib.dump(lgb_gs, \".\\\\models\\\\gs_lgb.model\")"
   ]
  },
  {
   "cell_type": "code",
   "execution_count": 14,
   "metadata": {},
   "outputs": [],
   "source": [
    "lgb_path = \".\\\\lgb_models\\\\\"\n",
    "xgb_path = \".\\\\xgb_models\\\\\"\n",
    "\n",
    "os.makedirs(lgb_path, exist_ok=True)\n",
    "os.makedirs(xgb_path, exist_ok=True)"
   ]
  },
  {
   "cell_type": "code",
   "execution_count": 15,
   "metadata": {},
   "outputs": [
    {
     "name": "stdout",
     "output_type": "stream",
     "text": [
      "\n",
      " 1 Fold\n",
      "XGBoosting Fitting...\n",
      "LightGBM Fitting...\n",
      "\n",
      " 2 Fold\n",
      "XGBoosting Fitting...\n",
      "LightGBM Fitting...\n",
      "\n",
      " 3 Fold\n",
      "XGBoosting Fitting...\n",
      "LightGBM Fitting...\n",
      "\n",
      " 4 Fold\n",
      "XGBoosting Fitting...\n",
      "LightGBM Fitting...\n",
      "\n",
      " 5 Fold\n",
      "XGBoosting Fitting...\n",
      "LightGBM Fitting...\n"
     ]
    }
   ],
   "source": [
    "xgb_cv = np.zeros(len(X))\n",
    "lgb_cv = np.zeros(len(X))\n",
    "mean_cv = np.zeros(len(X))\n",
    "\n",
    "for cnt, idx in enumerate(kf.split(X)):\n",
    "    print(\"\\n\", cnt+1, \"Fold\")\n",
    "    X_train, y_train = X[idx[0]], y[idx[0]]\n",
    "    X_valid, y_valid = X[idx[1]], y[idx[1]]\n",
    "    \n",
    "    X_train_, X_valid_ = X_train, X_valid\n",
    "#     X_train_ = preprocess.fit_transform(X_train)\n",
    "#     X_valid_ = preprocess.transform(X_valid)\n",
    "    \n",
    "    est_xgb = XGBRegressor(device=\"gpu\",  min_child_weight=3, max_depth=7)\n",
    "    est_lgb = LGBMRegressor(device=\"gpu\", min_child_weight=4, max_depth=5)\n",
    "#     est_xgb = xgb_base\n",
    "#     est_lgb = lgb_base\n",
    "    \n",
    "    print(\"XGBoosting Fitting...\")\n",
    "    est_xgb.fit(X_train_, y_train)\n",
    "    joblib.dump(est_xgb, \"{}{}_{}Fold.mlmodel\".format(xgb_path, \"XGB\", cnt+1))\n",
    "    \n",
    "    print(\"LightGBM Fitting...\")\n",
    "    est_lgb.fit(X_train_, y_train)\n",
    "    joblib.dump(est_lgb, \"{}{}_{}Fold.mlmodel\".format(lgb_path, \"LGB\", cnt+1))\n",
    "    \n",
    "    xgb_cv[idx[1]] += est_xgb.predict(X_valid_)\n",
    "    lgb_cv[idx[1]] += est_lgb.predict(X_valid_)"
   ]
  },
  {
   "cell_type": "code",
   "execution_count": 16,
   "metadata": {},
   "outputs": [],
   "source": [
    "mean_cv = np.mean([xgb_cv, lgb_cv], axis=0)\n",
    "rmse_mean = rmse(y, mean_cv)"
   ]
  },
  {
   "cell_type": "code",
   "execution_count": 17,
   "metadata": {},
   "outputs": [],
   "source": [
    "rmse_xgb = rmse(y, xgb_cv)\n",
    "rmse_lgb = rmse(y, lgb_cv)"
   ]
  },
  {
   "cell_type": "code",
   "execution_count": 18,
   "metadata": {},
   "outputs": [
    {
     "data": {
      "text/plain": [
       "3.1601745019168983"
      ]
     },
     "execution_count": 18,
     "metadata": {},
     "output_type": "execute_result"
    }
   ],
   "source": [
    "rmse_lgb"
   ]
  },
  {
   "cell_type": "code",
   "execution_count": 19,
   "metadata": {},
   "outputs": [
    {
     "data": {
      "text/plain": [
       "3.4235279937353322"
      ]
     },
     "execution_count": 19,
     "metadata": {},
     "output_type": "execute_result"
    }
   ],
   "source": [
    "rmse_xgb"
   ]
  },
  {
   "cell_type": "code",
   "execution_count": 20,
   "metadata": {},
   "outputs": [
    {
     "data": {
      "text/plain": [
       "3.2176952547247417"
      ]
     },
     "execution_count": 20,
     "metadata": {},
     "output_type": "execute_result"
    }
   ],
   "source": [
    "rmse_mean"
   ]
  },
  {
   "cell_type": "code",
   "execution_count": 21,
   "metadata": {},
   "outputs": [],
   "source": [
    "lgb_models = sorted(os.listdir(lgb_path))\n",
    "xgb_models = sorted(os.listdir(xgb_path))"
   ]
  },
  {
   "cell_type": "code",
   "execution_count": 22,
   "metadata": {},
   "outputs": [
    {
     "name": "stdout",
     "output_type": "stream",
     "text": [
      "LightGBM Predicting...\n",
      "XGBoositng Predicting...\n"
     ]
    }
   ],
   "source": [
    "lgb_predict = np.zeros(len(X_test))\n",
    "xgb_predict = np.zeros(len(X_test))\n",
    "mean_predict = np.zeros(len(X_test))\n",
    "\n",
    "print(\"LightGBM Predicting...\")\n",
    "for model in lgb_models:\n",
    "    est = joblib.load(os.path.join(lgb_path, model))\n",
    "    lgb_predict += est.predict(X_test)\n",
    "\n",
    "print(\"XGBoositng Predicting...\")\n",
    "for model in xgb_models:\n",
    "    est = joblib.load(os.path.join(xgb_path, model))\n",
    "    xgb_predict += est.predict(X_test)"
   ]
  },
  {
   "cell_type": "code",
   "execution_count": 23,
   "metadata": {},
   "outputs": [],
   "source": [
    "lgb_predict /= len(lgb_models)\n",
    "xgb_predict /= len(xgb_models)\n",
    "mean_predict = np.mean([lgb_predict, xgb_predict], axis=0)"
   ]
  },
  {
   "cell_type": "code",
   "execution_count": 24,
   "metadata": {},
   "outputs": [],
   "source": [
    "pd.DataFrame(lgb_predict, index=df_test.index).to_csv(\"LGBM_submit.csv\", header=False)\n",
    "pd.DataFrame(xgb_predict, index=df_test.index).to_csv(\"XGB_submit.csv\", header=False)\n",
    "pd.DataFrame(mean_predict, index=df_test.index).to_csv(\"Mean_submit.csv\", header=False)"
   ]
  },
  {
   "cell_type": "code",
   "execution_count": 25,
   "metadata": {},
   "outputs": [
    {
     "data": {
      "text/plain": [
       "XGBRegressor(base_score=0.5, booster='gbtree', colsample_bylevel=1,\n",
       "       colsample_bytree=1.0, gamma=0, learning_rate=0.5, max_delta_step=0,\n",
       "       max_depth=10, min_child_weight=1, missing=None, n_estimators=100,\n",
       "       n_jobs=1, nthread=None, objective='reg:linear', random_state=0,\n",
       "       reg_alpha=0, reg_lambda=1, scale_pos_weight=1, seed=None,\n",
       "       silent=True, subsample=0.5)"
      ]
     },
     "execution_count": 25,
     "metadata": {},
     "output_type": "execute_result"
    }
   ],
   "source": [
    "xgb_base"
   ]
  },
  {
   "cell_type": "code",
   "execution_count": 26,
   "metadata": {},
   "outputs": [
    {
     "data": {
      "text/plain": [
       "LGBMRegressor(boosting_type='gbdt', class_weight=None, colsample_bytree=1.0,\n",
       "       device='gpu', importance_type='split', learning_rate=0.1,\n",
       "       max_depth=5, min_child_samples=20, min_child_weight=4,\n",
       "       min_split_gain=0.0, n_estimators=100, n_jobs=-1, num_leaves=31,\n",
       "       objective=None, random_state=None, reg_alpha=0.0, reg_lambda=0.0,\n",
       "       silent=True, subsample=1.0, subsample_for_bin=200000,\n",
       "       subsample_freq=0)"
      ]
     },
     "execution_count": 26,
     "metadata": {},
     "output_type": "execute_result"
    }
   ],
   "source": [
    "est_lgb"
   ]
  },
  {
   "cell_type": "markdown",
   "metadata": {},
   "source": [
    "# 相関に従い、特徴選択を行う\n",
    "目的変数との相関が強い特徴変数を一つずつ追加する<br>\n",
    "追加したことによりスコアが良くなるまで続ける"
   ]
  },
  {
   "cell_type": "code",
   "execution_count": 37,
   "metadata": {},
   "outputs": [],
   "source": [
    "corr = df_train.corr().abs().sort_values(by=target_col, ascending=False)"
   ]
  },
  {
   "cell_type": "code",
   "execution_count": 38,
   "metadata": {},
   "outputs": [],
   "source": [
    "corr_sort = list(corr.index[1:])"
   ]
  },
  {
   "cell_type": "markdown",
   "metadata": {},
   "source": [
    "## XGBoost"
   ]
  },
  {
   "cell_type": "code",
   "execution_count": 39,
   "metadata": {},
   "outputs": [],
   "source": [
    "est_xgb = XGBRegressor()\n",
    "use_col = []\n",
    "min_col = []\n",
    "min_score = 100000000000000\n",
    "for col in corr_sort:\n",
    "    use_col.append(col)\n",
    "    X_tmp = df_train[use_col]\n",
    "    X_train, X_valid, y_train, y_valid = train_test_split(X_tmp, y)\n",
    "    X_train = preprocess.fit_transform(X_train)\n",
    "    X_valid = preprocess.transform(X_valid)\n",
    "    est_xgb.fit(X_train, y_train)\n",
    "    predict = est_xgb.predict(X_valid)\n",
    "    score = rmse(y_valid, predict)\n",
    "    if score > min_score:\n",
    "        min_score = score\n",
    "    min_col = use_col"
   ]
  },
  {
   "cell_type": "code",
   "execution_count": 40,
   "metadata": {
    "scrolled": true
   },
   "outputs": [
    {
     "data": {
      "text/plain": [
       "['weight',\n",
       " 'displacement',\n",
       " 'horsepower',\n",
       " 'cylinders',\n",
       " 'model year',\n",
       " 'origin',\n",
       " 'acceleration',\n",
       " 'amc',\n",
       " 'vw',\n",
       " 'datsun']"
      ]
     },
     "execution_count": 40,
     "metadata": {},
     "output_type": "execute_result"
    }
   ],
   "source": [
    "min_col[:10]"
   ]
  },
  {
   "cell_type": "code",
   "execution_count": 41,
   "metadata": {},
   "outputs": [],
   "source": [
    "X_ = df_train[min_col]"
   ]
  },
  {
   "cell_type": "code",
   "execution_count": 42,
   "metadata": {},
   "outputs": [],
   "source": [
    "est_xgb.fit(X_, y)\n",
    "predict = est_xgb.predict(df_test[min_col])"
   ]
  },
  {
   "cell_type": "code",
   "execution_count": 43,
   "metadata": {},
   "outputs": [],
   "source": [
    "pd.DataFrame(predict, index=df_test.index).to_csv(\"Submit_XGB.csv\", header=False)"
   ]
  },
  {
   "cell_type": "markdown",
   "metadata": {},
   "source": [
    "## LightGBM"
   ]
  },
  {
   "cell_type": "code",
   "execution_count": 45,
   "metadata": {},
   "outputs": [],
   "source": [
    "est_lgb = LGBMRegressor()\n",
    "use_col = []\n",
    "min_col = []\n",
    "min_score = 100000000000000\n",
    "for col in corr_sort:\n",
    "    use_col.append(col)\n",
    "    X_tmp = df_train[use_col]\n",
    "    X_train, X_valid, y_train, y_valid = train_test_split(X_tmp, y)\n",
    "    X_train = preprocess.fit_transform(X_train)\n",
    "    X_valid = preprocess.transform(X_valid)\n",
    "    est_lgb.fit(X_train, y_train)\n",
    "    predict = est_lgb.predict(X_valid)\n",
    "    score = rmse(y_valid, predict)\n",
    "    if score > min_score:\n",
    "        min_score = score\n",
    "    min_col = use_col"
   ]
  },
  {
   "cell_type": "code",
   "execution_count": 46,
   "metadata": {},
   "outputs": [],
   "source": [
    "X_ = df_train[min_col]\n",
    "est_lgb.fit(X_, y)\n",
    "predict = est_lgb.predict(df_test[min_col])"
   ]
  },
  {
   "cell_type": "code",
   "execution_count": 47,
   "metadata": {},
   "outputs": [],
   "source": [
    "pd.DataFrame(predict, index=df_test.index).to_csv(\"Submit_LGB.csv\", header=False)"
   ]
  },
  {
   "cell_type": "code",
   "execution_count": null,
   "metadata": {},
   "outputs": [],
   "source": []
  }
 ],
 "metadata": {
  "kernelspec": {
   "display_name": "Compatition",
   "language": "python",
   "name": "compatition"
  },
  "language_info": {
   "codemirror_mode": {
    "name": "ipython",
    "version": 3
   },
   "file_extension": ".py",
   "mimetype": "text/x-python",
   "name": "python",
   "nbconvert_exporter": "python",
   "pygments_lexer": "ipython3",
   "version": "3.6.8"
  },
  "toc": {
   "base_numbering": 1,
   "nav_menu": {},
   "number_sections": true,
   "sideBar": true,
   "skip_h1_title": false,
   "title_cell": "Table of Contents",
   "title_sidebar": "Contents",
   "toc_cell": false,
   "toc_position": {},
   "toc_section_display": true,
   "toc_window_display": false
  }
 },
 "nbformat": 4,
 "nbformat_minor": 2
}
